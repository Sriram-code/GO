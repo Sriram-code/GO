{
 "cells": [
  {
   "cell_type": "code",
   "execution_count": null,
   "id": "853c1247",
   "metadata": {},
   "outputs": [],
   "source": [
    "! pip install https://github.com/huggingface/transformers/archive/nllb.zip -q"
   ]
  },
  {
   "cell_type": "code",
   "execution_count": null,
   "id": "47b4d3c0",
   "metadata": {},
   "outputs": [],
   "source": [
    "# !pip install transformers"
   ]
  },
  {
   "cell_type": "code",
   "execution_count": 2,
   "id": "34a3e3d2",
   "metadata": {},
   "outputs": [],
   "source": [
    "from transformers import AutoTokenizer, AutoModelForSeq2SeqLM, pipeline"
   ]
  },
  {
   "cell_type": "raw",
   "id": "4e13b0ff",
   "metadata": {},
   "source": [
    "# Language\tFLORES-200 code\n",
    "Acehnese (Arabic script)\tace_Arab\n",
    "Acehnese (Latin script)\tace_Latn\n",
    "Mesopotamian Arabic\tacm_Arab\n",
    "Ta’izzi-Adeni Arabic\tacq_Arab\n",
    "Tunisian Arabic\taeb_Arab\n",
    "Afrikaans\tafr_Latn\n",
    "South Levantine Arabic\tajp_Arab\n",
    "Akan\taka_Latn\n",
    "Amharic\tamh_Ethi\n",
    "North Levantine Arabic\tapc_Arab\n",
    "Modern Standard Arabic\tarb_Arab\n",
    "Modern Standard Arabic (Romanized)\tarb_Latn\n",
    "Najdi Arabic\tars_Arab\n",
    "Moroccan Arabic\tary_Arab\n",
    "Egyptian Arabic\tarz_Arab\n",
    "Assamese\tasm_Beng\n",
    "Asturian\tast_Latn\n",
    "Awadhi\tawa_Deva\n",
    "Central Aymara\tayr_Latn\n",
    "South Azerbaijani\tazb_Arab\n",
    "North Azerbaijani\tazj_Latn\n",
    "Bashkir\tbak_Cyrl\n",
    "Bambara\tbam_Latn\n",
    "Balinese\tban_Latn\n",
    "Belarusian\tbel_Cyrl\n",
    "Bemba\tbem_Latn\n",
    "Bengali\tben_Beng\n",
    "Bhojpuri\tbho_Deva\n",
    "Banjar (Arabic script)\tbjn_Arab\n",
    "Banjar (Latin script)\tbjn_Latn\n",
    "Standard Tibetan\tbod_Tibt\n",
    "Bosnian\tbos_Latn\n",
    "Buginese\tbug_Latn\n",
    "Bulgarian\tbul_Cyrl\n",
    "Catalan\tcat_Latn\n",
    "Cebuano\tceb_Latn\n",
    "Czech\tces_Latn\n",
    "Chokwe\tcjk_Latn\n",
    "Central Kurdish\tckb_Arab\n",
    "Crimean Tatar\tcrh_Latn\n",
    "Welsh\tcym_Latn\n",
    "Danish\tdan_Latn\n",
    "German\tdeu_Latn\n",
    "Southwestern Dinka\tdik_Latn\n",
    "Dyula\tdyu_Latn\n",
    "Dzongkha\tdzo_Tibt\n",
    "Greek\tell_Grek\n",
    "English\teng_Latn\n",
    "Esperanto\tepo_Latn\n",
    "Estonian\test_Latn\n",
    "Basque\teus_Latn\n",
    "Ewe\tewe_Latn\n",
    "Faroese\tfao_Latn\n",
    "Fijian\tfij_Latn\n",
    "Finnish\tfin_Latn\n",
    "Fon\tfon_Latn\n",
    "French\tfra_Latn\n",
    "Friulian\tfur_Latn\n",
    "Nigerian Fulfulde\tfuv_Latn\n",
    "Scottish Gaelic\tgla_Latn\n",
    "Irish\tgle_Latn\n",
    "Galician\tglg_Latn\n",
    "Guarani\tgrn_Latn\n",
    "Gujarati\tguj_Gujr\n",
    "Haitian Creole\that_Latn\n",
    "Hausa\thau_Latn\n",
    "Hebrew\theb_Hebr\n",
    "Hindi\thin_Deva\n",
    "Chhattisgarhi\thne_Deva\n",
    "Croatian\thrv_Latn\n",
    "Hungarian\thun_Latn\n",
    "Armenian\thye_Armn\n",
    "Igbo\tibo_Latn\n",
    "Ilocano\tilo_Latn\n",
    "Indonesian\tind_Latn\n",
    "Icelandic\tisl_Latn\n",
    "Italian\tita_Latn\n",
    "Javanese\tjav_Latn\n",
    "Japanese\tjpn_Jpan\n",
    "Kabyle\tkab_Latn\n",
    "Jingpho\tkac_Latn\n",
    "Kamba\tkam_Latn\n",
    "Kannada\tkan_Knda\n",
    "Kashmiri (Arabic script)\tkas_Arab\n",
    "Kashmiri (Devanagari script)\tkas_Deva\n",
    "Georgian\tkat_Geor\n",
    "Central Kanuri (Arabic script)\tknc_Arab\n",
    "Central Kanuri (Latin script)\tknc_Latn\n",
    "Kazakh\tkaz_Cyrl\n",
    "Kabiyè\tkbp_Latn\n",
    "Kabuverdianu\tkea_Latn\n",
    "Khmer\tkhm_Khmr\n",
    "Kikuyu\tkik_Latn\n",
    "Kinyarwanda\tkin_Latn\n",
    "Kyrgyz\tkir_Cyrl\n",
    "Kimbundu\tkmb_Latn\n",
    "Northern Kurdish\tkmr_Latn\n",
    "Kikongo\tkon_Latn\n",
    "Korean\tkor_Hang\n",
    "Lao\tlao_Laoo\n",
    "Ligurian\tlij_Latn\n",
    "Limburgish\tlim_Latn\n",
    "Lingala\tlin_Latn\n",
    "Lithuanian\tlit_Latn\n",
    "Lombard\tlmo_Latn\n",
    "Latgalian\tltg_Latn\n",
    "Luxembourgish\tltz_Latn\n",
    "Luba-Kasai\tlua_Latn\n",
    "Ganda\tlug_Latn\n",
    "Luo\tluo_Latn\n",
    "Mizo\tlus_Latn\n",
    "Standard Latvian\tlvs_Latn\n",
    "Magahi\tmag_Deva\n",
    "Maithili\tmai_Deva\n",
    "Malayalam\tmal_Mlym\n",
    "Marathi\tmar_Deva\n",
    "Minangkabau (Arabic script)\tmin_Arab\n",
    "Minangkabau (Latin script)\tmin_Latn\n",
    "Macedonian\tmkd_Cyrl\n",
    "Plateau Malagasy\tplt_Latn\n",
    "Maltese\tmlt_Latn\n",
    "Meitei (Bengali script)\tmni_Beng\n",
    "Halh Mongolian\tkhk_Cyrl\n",
    "Mossi\tmos_Latn\n",
    "Maori\tmri_Latn\n",
    "Burmese\tmya_Mymr\n",
    "Dutch\tnld_Latn\n",
    "Norwegian Nynorsk\tnno_Latn\n",
    "Norwegian Bokmål\tnob_Latn\n",
    "Nepali\tnpi_Deva\n",
    "Northern Sotho\tnso_Latn\n",
    "Nuer\tnus_Latn\n",
    "Nyanja\tnya_Latn\n",
    "Occitan\toci_Latn\n",
    "West Central Oromo\tgaz_Latn\n",
    "Odia\tory_Orya\n",
    "Pangasinan\tpag_Latn\n",
    "Eastern Panjabi\tpan_Guru\n",
    "Papiamento\tpap_Latn\n",
    "Western Persian\tpes_Arab\n",
    "Polish\tpol_Latn\n",
    "Portuguese\tpor_Latn\n",
    "Dari\tprs_Arab\n",
    "Southern Pashto\tpbt_Arab\n",
    "Ayacucho Quechua\tquy_Latn\n",
    "Romanian\tron_Latn\n",
    "Rundi\trun_Latn\n",
    "Russian\trus_Cyrl\n",
    "Sango\tsag_Latn\n",
    "Sanskrit\tsan_Deva\n",
    "Santali\tsat_Olck\n",
    "Sicilian\tscn_Latn\n",
    "Shan\tshn_Mymr\n",
    "Sinhala\tsin_Sinh\n",
    "Slovak\tslk_Latn\n",
    "Slovenian\tslv_Latn\n",
    "Samoan\tsmo_Latn\n",
    "Shona\tsna_Latn\n",
    "Sindhi\tsnd_Arab\n",
    "Somali\tsom_Latn\n",
    "Southern Sotho\tsot_Latn\n",
    "Spanish\tspa_Latn\n",
    "Tosk Albanian\tals_Latn\n",
    "Sardinian\tsrd_Latn\n",
    "Serbian\tsrp_Cyrl\n",
    "Swati\tssw_Latn\n",
    "Sundanese\tsun_Latn\n",
    "Swedish\tswe_Latn\n",
    "Swahili\tswh_Latn\n",
    "Silesian\tszl_Latn\n",
    "Tamil\ttam_Taml\n",
    "Tatar\ttat_Cyrl\n",
    "Telugu\ttel_Telu\n",
    "Tajik\ttgk_Cyrl\n",
    "Tagalog\ttgl_Latn\n",
    "Thai\ttha_Thai\n",
    "Tigrinya\ttir_Ethi\n",
    "Tamasheq (Latin script)\ttaq_Latn\n",
    "Tamasheq (Tifinagh script)\ttaq_Tfng\n",
    "Tok Pisin\ttpi_Latn\n",
    "Tswana\ttsn_Latn\n",
    "Tsonga\ttso_Latn\n",
    "Turkmen\ttuk_Latn\n",
    "Tumbuka\ttum_Latn\n",
    "Turkish\ttur_Latn\n",
    "Twi\ttwi_Latn\n",
    "Central Atlas Tamazight\ttzm_Tfng\n",
    "Uyghur\tuig_Arab\n",
    "Ukrainian\tukr_Cyrl\n",
    "Umbundu\tumb_Latn\n",
    "Urdu\turd_Arab\n",
    "Northern Uzbek\tuzn_Latn\n",
    "Venetian\tvec_Latn\n",
    "Vietnamese\tvie_Latn\n",
    "Waray\twar_Latn\n",
    "Wolof\twol_Latn\n",
    "Xhosa\txho_Latn\n",
    "Eastern Yiddish\tydd_Hebr\n",
    "Yoruba\tyor_Latn\n",
    "Yue Chinese\tyue_Hant\n",
    "Chinese (Simplified)\tzho_Hans\n",
    "Chinese (Traditional)\tzho_Hant\n",
    "Standard Malay\tzsm_Latn\n",
    "Zulu\tzul_Latn"
   ]
  },
  {
   "cell_type": "code",
   "execution_count": 3,
   "id": "d7136547",
   "metadata": {},
   "outputs": [],
   "source": [
    "model = AutoModelForSeq2SeqLM.from_pretrained(\"facebook/nllb-200-distilled-600M\")\n",
    "tokenizer = AutoTokenizer.from_pretrained(\"facebook/nllb-200-distilled-600M\")"
   ]
  },
  {
   "cell_type": "code",
   "execution_count": 14,
   "id": "ff687dce",
   "metadata": {},
   "outputs": [],
   "source": [
    "translator = pipeline('translation', model=model, tokenizer=tokenizer, src_lang=\"eng_Latn\", tgt_lang='deu_Latn', max_length = 400)"
   ]
  },
  {
   "cell_type": "code",
   "execution_count": 15,
   "id": "0828f075",
   "metadata": {},
   "outputs": [
    {
     "data": {
      "text/plain": [
       "[{'translation_text': 'Mein Name ist Ravi .'}]"
      ]
     },
     "execution_count": 15,
     "metadata": {},
     "output_type": "execute_result"
    }
   ],
   "source": [
    "translator(\"My name is Ravi \")"
   ]
  },
  {
   "cell_type": "code",
   "execution_count": 16,
   "id": "4a9bad75",
   "metadata": {},
   "outputs": [
    {
     "data": {
      "text/plain": [
       "[{'translation_text': 'Willkommen im GENAI Studio.'}]"
      ]
     },
     "execution_count": 16,
     "metadata": {},
     "output_type": "execute_result"
    }
   ],
   "source": [
    "translator(\"Welcome to GENAI Studio\")"
   ]
  },
  {
   "cell_type": "code",
   "execution_count": 17,
   "id": "07e76974",
   "metadata": {},
   "outputs": [
    {
     "data": {
      "text/plain": [
       "[{'translation_text': 'Es ist ein Vergnügen , Sie hier zu haben .'}]"
      ]
     },
     "execution_count": 17,
     "metadata": {},
     "output_type": "execute_result"
    }
   ],
   "source": [
    "translator(\"It is a pleasure to have you here \")"
   ]
  },
  {
   "cell_type": "code",
   "execution_count": null,
   "id": "16ae15a0",
   "metadata": {},
   "outputs": [],
   "source": []
  }
 ],
 "metadata": {
  "kernelspec": {
   "display_name": "Python 3 (ipykernel)",
   "language": "python",
   "name": "python3"
  },
  "language_info": {
   "codemirror_mode": {
    "name": "ipython",
    "version": 3
   },
   "file_extension": ".py",
   "mimetype": "text/x-python",
   "name": "python",
   "nbconvert_exporter": "python",
   "pygments_lexer": "ipython3",
   "version": "3.10.9"
  }
 },
 "nbformat": 4,
 "nbformat_minor": 5
}
